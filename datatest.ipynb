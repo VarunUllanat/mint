{
 "cells": [
  {
   "cell_type": "code",
   "execution_count": null,
   "id": "413c921c",
   "metadata": {},
   "outputs": [],
   "source": [
    "from scripts.generate_pseudomultimer_dataset import (\n",
    "    locate_cif_file,\n",
    "    load_structure,\n",
    "    get_sequence,\n",
    "    slice_sequence_by_residue_range,\n",
    "    build_dataset,\n",
    "    get_ca_atoms,\n",
    ")\n",
    "from pathlib import Path\n",
    "import json\n",
    "\n",
    "# Path to features JSON\n",
    "features_path = Path.cwd().parent / \"DATA/pdb_features.json\"\n",
    "project_root = Path.cwd()  # base_dir for locate_cif_file\n",
    "\n",
    "# Load JSON into a separate variable (avoid shadowing the path)\n",
    "with open(features_path, \"r\") as f:\n",
    "    features_data = json.load(f)\n",
    "\n",
    "# Resolve CIF path and load structure\n",
    "cif_path = locate_cif_file(pdb_id=\"1A2P\", base_dir=project_root, pdb_features=features_data)\n",
    "print(\"CIF path:\", cif_path)\n",
    "\n",
    "struct = load_structure(cif_path)\n",
    "print(\"Loaded struct:\", type(struct).__name__ if struct is not None else None)\n",
    "\n",
    "# Option A: Get entire chain sequences as a dict {chain_id: seq}\n",
    "all_chain_seqs = get_sequence(struct)\n",
    "print(\"Chain A (full) length:\", len(all_chain_seqs.get(\"A\", \"\")))\n",
    "\n",
    "# Option B: Get a sliced subsequence by residue numbers (inclusive)\n",
    "subseq = slice_sequence_by_residue_range(struct, chain_id=\"A\", start_res=3, end_res=5)\n",
    "print(\"Sliced A[3..5]:\", subseq)\n",
    "\n",
    "get_ca_atoms(load_structure(cif_path), chain_id=\"A\", start_res=3, end_res=5)\n",
    "\n",
    "# build_dataset(pdb_features= features_data, base_dir= project_root)"
   ]
  },
  {
   "cell_type": "code",
   "execution_count": null,
   "id": "4219ab90",
   "metadata": {},
   "outputs": [],
   "source": [
    "from scripts.generate_pseudomultimer_dataset import main\n",
    "\n",
    "output_path_links = \"/home/jovyan/workspace/DATA/training.links.txt.gz\"\n",
    "output_path_seqs = \"/home/jovyan/workspace/DATA/training.seqs.txt.gz\"\n",
    "output_path_contact_masks = \"/home/jovyan/workspace/DATA/training.contact_masks.pkl.gz\"\n",
    "main(\n",
    "    links_output_path=output_path_links,\n",
    "    seqs_output_path=output_path_seqs,\n",
    "    contact_masks_ouput_path=output_path_contact_masks,\n",
    ")"
   ]
  },
  {
   "cell_type": "code",
   "execution_count": 8,
   "id": "557b2c9e",
   "metadata": {},
   "outputs": [
    {
     "data": {
      "image/png": "[encoded data removed]",
      "text/plain": [
       "<Figure size 640x480 with 2 Axes>"
      ]
     },
     "metadata": {},
     "output_type": "display_data"
    }
   ],
   "source": [
    "from mint.data.mint import PseudoMMDataset\n",
    "from mint.data.mint import PseudoMMDataModule\n",
    "import matplotlib.pyplot as plt\n",
    "import numpy as np\n",
    "\n",
    "test = PseudoMMDataset(\n",
    "    links_path=\"/home/jovyan/workspace/DATA/training.links.txt.gz\",\n",
    "    seqs_path=\"/home/jovyan/workspace/DATA/training.seqs.txt.gz\",\n",
    "    contact_masks_path=\"/home/jovyan/workspace/DATA/training.contact_masks.pkl.gz\",\n",
    ")\n",
    "\n",
    "y = test.__getitem__(221)[-1]\n",
    "\n",
    "plot_arr = y.astype(float)\n",
    "plot_arr[y == -1] = np.nan\n",
    "\n",
    "plt.figure()\n",
    "im = plt.imshow(plot_arr, origin=\"lower\", interpolation=\"none\")  # show as image\n",
    "plt.title(\"Inter-chain contact map\")\n",
    "plt.xlabel(\"Residue j\")\n",
    "plt.ylabel(\"Residue i\")\n",
    "cbar = plt.colorbar(im)\n",
    "cbar.set_label(\"1 = contact, 0 = non-contact\")\n",
    "\n",
    "plt.show()"
   ]
  },
  {
   "cell_type": "code",
   "execution_count": null,
   "id": "7d8b9382",
   "metadata": {},
   "outputs": [
    {
     "name": "stdout",
     "output_type": "stream",
     "text": [
      "[tensor([[ 0, 16,  8,  7,  4,  8, 16,  8, 14,  5, 12,  4,  8,  5,  8, 14,  6,  9,\n",
      "         15,  7, 12, 20, 11, 23,  8, 14,  8,  8,  8,  7,  8, 19, 20, 16, 22, 19,\n",
      "         16, 16, 15, 14,  6,  8,  8, 14, 15, 14, 22, 12, 19,  8, 11,  8, 17,  4,\n",
      "          5,  8,  6,  7, 14,  6, 10, 18,  8,  6,  6,  6,  8,  6, 11,  8, 18,  8,\n",
      "          4, 11, 12,  8,  6,  7,  9,  5,  9, 13,  5,  5, 11, 19, 19, 23, 16, 16,\n",
      "         19,  8,  8, 21, 14,  4, 11, 18,  6,  6,  6, 11, 15,  4,  9,  4, 15, 10,\n",
      "          2,  0,  5, 13,  5,  5, 14, 11,  7,  8, 12, 18, 14, 14,  8,  8,  9, 16,\n",
      "          4, 11,  8,  6,  6,  5,  8,  7,  7, 23, 18,  4, 17, 17, 18, 19, 14, 15,\n",
      "         13, 12, 17,  7, 15, 22, 15, 12, 13,  6,  8,  9, 10, 16, 17,  6,  7,  4,\n",
      "         17,  8, 22, 11, 13, 16, 13,  8, 15, 13,  8, 11, 19,  8, 20,  8,  8, 11,\n",
      "          4, 11,  4, 11, 15, 13,  9, 19,  9, 10, 21, 17,  8, 19, 11, 23,  9,  5,\n",
      "         11, 21, 15, 11,  8, 11,  8, 14, 12,  7, 15,  8, 18, 17, 10,  2]]), tensor([[0, 0, 0, 0, 0, 0, 0, 0, 0, 0, 0, 0, 0, 0, 0, 0, 0, 0, 0, 0, 0, 0, 0, 0,\n",
      "         0, 0, 0, 0, 0, 0, 0, 0, 0, 0, 0, 0, 0, 0, 0, 0, 0, 0, 0, 0, 0, 0, 0, 0,\n",
      "         0, 0, 0, 0, 0, 0, 0, 0, 0, 0, 0, 0, 0, 0, 0, 0, 0, 0, 0, 0, 0, 0, 0, 0,\n",
      "         0, 0, 0, 0, 0, 0, 0, 0, 0, 0, 0, 0, 0, 0, 0, 0, 0, 0, 0, 0, 0, 0, 0, 0,\n",
      "         0, 0, 0, 0, 0, 0, 0, 0, 0, 0, 0, 0, 0, 1, 1, 1, 1, 1, 1, 1, 1, 1, 1, 1,\n",
      "         1, 1, 1, 1, 1, 1, 1, 1, 1, 1, 1, 1, 1, 1, 1, 1, 1, 1, 1, 1, 1, 1, 1, 1,\n",
      "         1, 1, 1, 1, 1, 1, 1, 1, 1, 1, 1, 1, 1, 1, 1, 1, 1, 1, 1, 1, 1, 1, 1, 1,\n",
      "         1, 1, 1, 1, 1, 1, 1, 1, 1, 1, 1, 1, 1, 1, 1, 1, 1, 1, 1, 1, 1, 1, 1, 1,\n",
      "         1, 1, 1, 1, 1, 1, 1, 1, 1, 1, 1, 1, 1, 1, 1, 1, 1, 1, 1, 1, 1, 1]],\n",
      "       dtype=torch.int32), tensor([[[ 1,  1,  0,  ...,  0,  0,  0],\n",
      "         [ 1, -1, -1,  ...,  0,  0,  0],\n",
      "         [ 0, -1, -1,  ...,  0,  0,  0],\n",
      "         ...,\n",
      "         [ 0,  0,  0,  ..., -1, -1, -1],\n",
      "         [ 0,  0,  0,  ..., -1, -1, -1],\n",
      "         [ 0,  0,  0,  ..., -1, -1, -1]]], dtype=torch.int8)]\n",
      "torch.Size([1, 214])\n"
     ]
    }
   ],
   "source": [
    "from mint.data.mint import PseudoMMDataModule\n",
    "from omegaconf import OmegaConf\n",
    "\n",
    "cfg = \"/home/jovyan/workspace/mint/src/mint/configs/all_configs.yaml\"\n",
    "cfg = OmegaConf.load(cfg)\n",
    "\n",
    "cfg.meta.code_base_dir = \"/home/jovyan/workspace/mint\"\n",
    "cfg.meta.data_dir = \"/home/jovyan/workspace/DATA\"\n",
    "\n",
    "\n",
    "test_loader = PseudoMMDataModule(config=cfg)\n",
    "\n",
    "# Get the PyTorch DataLoader from your DataModule\n",
    "loader = test_loader.train_dataloader()\n",
    "\n",
    "# Get the first batch\n",
    "batch = next(iter(loader))\n",
    "\n",
    "print(batch)\n",
    "\n",
    "print(batch[0].shape)"
   ]
  },
  {
   "cell_type": "code",
   "execution_count": null,
   "id": "926868ca",
   "metadata": {},
   "outputs": [
    {
     "name": "stdout",
     "output_type": "stream",
     "text": [
      "{}\n"
     ]
    }
   ],
   "source": [
    "from mint.model.mint import MINT\n",
    "\n",
    "my_model = MINT(cfg=cfg)\n",
    "\n",
    "loss, output = my_model.forward(batch)\n",
    "\n",
    "print(output)"
   ]
  }
 ],
 "metadata": {
  "kernelspec": {
   "display_name": "mint",
   "language": "python",
   "name": "python3"
  },
  "language_info": {
   "codemirror_mode": {
    "name": "ipython",
    "version": 3
   },
   "file_extension": ".py",
   "mimetype": "text/x-python",
   "name": "python",
   "nbconvert_exporter": "python",
   "pygments_lexer": "ipython3",
   "version": "3.12.9"
  }
 },
 "nbformat": 4,
 "nbformat_minor": 5
}
