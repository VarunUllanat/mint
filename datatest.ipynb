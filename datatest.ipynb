{
 "cells": [
  {
   "cell_type": "code",
   "execution_count": 1,
   "id": "413c921c",
   "metadata": {},
   "outputs": [
    {
     "name": "stdout",
     "output_type": "stream",
     "text": [
      "CIF path: /home/jovyan/workspace/DATA/cif_unzipped/000/1A2P.cif\n",
      "Loaded struct: AtomArray\n",
      "Chain A (full) length: 108\n",
      "Sliced A[3..5]: VIN\n"
     ]
    },
    {
     "data": {
      "text/plain": [
       "[[17.996999740600586, 38.57699966430664, 42.79499816894531],\n",
       " [19.56800079345703, 41.80500030517578, 44.10900115966797],\n",
       " [20.308000564575195, 43.99599838256836, 41.10200119018555]]"
      ]
     },
     "execution_count": 1,
     "metadata": {},
     "output_type": "execute_result"
    }
   ],
   "source": [
    "from scripts.generate_pseudomultimer_dataset import (\n",
    "    locate_cif_file,\n",
    "    load_structure,\n",
    "    get_sequence,\n",
    "    slice_sequence_by_residue_range,\n",
    "    build_dataset,\n",
    "    get_ca_atoms,\n",
    ")\n",
    "from pathlib import Path\n",
    "import json\n",
    "\n",
    "# Path to features JSON\n",
    "features_path = Path.cwd().parent / \"DATA/pdb_features.json\"\n",
    "project_root = Path.cwd()  # base_dir for locate_cif_file\n",
    "\n",
    "# Load JSON into a separate variable (avoid shadowing the path)\n",
    "with open(features_path, \"r\") as f:\n",
    "    features_data = json.load(f)\n",
    "\n",
    "# Resolve CIF path and load structure\n",
    "cif_path = locate_cif_file(pdb_id=\"1A2P\", base_dir=project_root, pdb_features=features_data)\n",
    "print(\"CIF path:\", cif_path)\n",
    "\n",
    "struct = load_structure(cif_path)\n",
    "print(\"Loaded struct:\", type(struct).__name__ if struct is not None else None)\n",
    "\n",
    "# Option A: Get entire chain sequences as a dict {chain_id: seq}\n",
    "all_chain_seqs = get_sequence(struct)\n",
    "print(\"Chain A (full) length:\", len(all_chain_seqs.get(\"A\", \"\")))\n",
    "\n",
    "# Option B: Get a sliced subsequence by residue numbers (inclusive)\n",
    "subseq = slice_sequence_by_residue_range(struct, chain_id=\"A\", start_res=3, end_res=5)\n",
    "print(\"Sliced A[3..5]:\", subseq)\n",
    "\n",
    "get_ca_atoms(load_structure(cif_path), chain_id=\"A\", start_res=3, end_res=5)\n",
    "\n",
    "# build_dataset(pdb_features= features_data, base_dir= project_root)"
   ]
  },
  {
   "cell_type": "code",
   "execution_count": 2,
   "id": "4219ab90",
   "metadata": {},
   "outputs": [
    {
     "name": "stdout",
     "output_type": "stream",
     "text": [
      "Links output : /home/jovyan/workspace/DATA/training.links.txt.gz\n",
      "Seqs  output : /home/jovyan/workspace/DATA/training.seqs.txt.gz\n",
      "Contact masks output: /home/jovyan/workspace/DATA/training.contact_masks.pkl.gz\n",
      "Loaded 154410 PDB entries from pdb_features.json\n"
     ]
    },
    {
     "name": "stderr",
     "output_type": "stream",
     "text": [
      "Processing CATH entries:   0%|          | 136/493969 [00:02<2:30:39, 54.63it/s]\n",
      "Processing CATH entries:   0%|          | 136/493969 [00:02<2:30:39, 54.63it/s]\n"
     ]
    },
    {
     "name": "stdout",
     "output_type": "stream",
     "text": [
      "Wrote 22 sequences, 11 links, and 11 contact masks.\n",
      "Skipped 0 items.\n",
      "Skipped items saved to: /home/jovyan/workspace/DATA/skipped_items.json\n"
     ]
    }
   ],
   "source": [
    "from scripts.generate_pseudomultimer_dataset import main\n",
    "\n",
    "output_path_links = \"/home/jovyan/workspace/DATA/training.links.txt.gz\"\n",
    "output_path_seqs = \"/home/jovyan/workspace/DATA/training.seqs.txt.gz\"\n",
    "output_path_contact_masks = \"/home/jovyan/workspace/DATA/training.contact_masks.pkl.gz\"\n",
    "main(\n",
    "    links_output_path=output_path_links,\n",
    "    seqs_output_path=output_path_seqs,\n",
    "    contact_masks_ouput_path=output_path_contact_masks,\n",
    ")"
   ]
  },
  {
   "cell_type": "code",
   "execution_count": null,
   "id": "85454585",
   "metadata": {},
   "outputs": [],
   "source": [
    "name = \"1A2P_A_1\"\n",
    "truncated = name.rsplit(\"_\", 1)[0]\n",
    "print(name)\n",
    "print(truncated)"
   ]
  },
  {
   "cell_type": "code",
   "execution_count": 3,
   "id": "557b2c9e",
   "metadata": {},
   "outputs": [],
   "source": [
    "from mint.data.mint import PseudoMMDataset\n",
    "from mint.data.mint import PseudoMMDataModule\n",
    "\n",
    "test = PseudoMMDataset(\n",
    "    links_path=\"/home/jovyan/workspace/DATA/training.links.txt.gz\",\n",
    "    seqs_path=\"/home/jovyan/workspace/DATA/training.seqs.txt.gz\",\n",
    "    contact_masks_path=\"/home/jovyan/workspace/DATA/training.contact_masks.pkl.gz\",\n",
    ")"
   ]
  },
  {
   "cell_type": "code",
   "execution_count": null,
   "id": "1a93cd9a",
   "metadata": {},
   "outputs": [
    {
     "name": "stdout",
     "output_type": "stream",
     "text": [
      "<class 'omegaconf.dictconfig.DictConfig'>\n",
      "{'meta': {'code_base_dir': '/home/jovyan/workspace/mint', 'data_dir': '/home/jovyan/workspace/DATA', 'experiment_name': 'contact_head_test', 'experiment_dir': '${meta.code_base_dir}/outputs/${meta.experiment_name}', 'matmul_precision': 'medium', 'pretrained': None, 'resume': None, 'disable_checkpoint': False, 'save_top_k': -1}, 'mint': {'esm2': {'encoder_layers': 33, 'encoder_embed_dim': 1280, 'encoder_attention_heads': 16, 'token_dropout': 0.1, 'use_multimer': True}}, 'training_args': {'freeze_self_attn': False, 'lr': 0.0001, 'adam_betas': [0.9, 0.98], 'adam_eps': 1e-08, 'weight_decay': 0.01, 'warmup_updates': 2000, 'end_learning_rate': 1e-05, 'total_num_update': 100000}, 'trainer': {'accelerator': 'gpu', 'devices': 1, 'precision': 32, 'gradient_clip_val': 10.0, 'max_epochs': -1, 'log_every_n_steps': 5, 'accumulate_grad_batches': 1, 'val_check_interval': 0.0, 'limit_val_batches': 0}, 'data': {'train': {'links_path': '/home/jovyan/workspace/DATA/training.links.txt.gz', 'seqs_path': '/home/jovyan/workspace/DATA/training.seqs.txt.gz', 'contact_masks_path': '/home/jovyan/workspace/DATA/training.contact_masks.txt.gz', 'concat': False, 'batch_size': 1, 'max_examples': None, 'max_len': 512, 'shuffle': True, 'num_workers': 4, 'pin_memory': True, 'overfit': False}}, 'wandb': {'name': None, 'project': '${meta.experiment_name}', 'entity': 'set-entity'}, 'hydra': {'run': {'dir': '${meta.experiment_dir}/hydra_logs/${now:%Y-%m-%d_%H-%M-%S}'}}}\n"
     ]
    },
    {
     "ename": "ConfigAttributeError",
     "evalue": "Missing key train\n    full_key: train\n    object_type=dict",
     "output_type": "error",
     "traceback": [
      "\u001b[31m---------------------------------------------------------------------------\u001b[39m",
      "\u001b[31mConfigAttributeError\u001b[39m                      Traceback (most recent call last)",
      "\u001b[36mCell\u001b[39m\u001b[36m \u001b[39m\u001b[32mIn[4]\u001b[39m\u001b[32m, line 18\u001b[39m\n\u001b[32m     15\u001b[39m \u001b[38;5;28mprint\u001b[39m(cfg)\n\u001b[32m     17\u001b[39m model = MINT(cfg)\n\u001b[32m---> \u001b[39m\u001b[32m18\u001b[39m test2 = \u001b[43mPseudoMMDataModule\u001b[49m\u001b[43m(\u001b[49m\u001b[43mcfg\u001b[49m\u001b[43m)\u001b[49m\n\u001b[32m     19\u001b[39m dl = test2.train_dataloader()\n\u001b[32m     20\u001b[39m batch = \u001b[38;5;28mnext\u001b[39m(\u001b[38;5;28miter\u001b[39m(dl))\n",
      "\u001b[36mFile \u001b[39m\u001b[32m~/workspace/mint/src/mint/data/mint.py:321\u001b[39m, in \u001b[36mPseudoMMDataModule.__init__\u001b[39m\u001b[34m(self, config)\u001b[39m\n\u001b[32m    317\u001b[39m \u001b[38;5;28msuper\u001b[39m().\u001b[34m__init__\u001b[39m()\n\u001b[32m    318\u001b[39m \u001b[38;5;28mself\u001b[39m.config = config\n\u001b[32m    320\u001b[39m \u001b[38;5;28mself\u001b[39m.train_dataset = PseudoMMDataset(\n\u001b[32m--> \u001b[39m\u001b[32m321\u001b[39m     links_path=\u001b[38;5;28;43mself\u001b[39;49m\u001b[43m.\u001b[49m\u001b[43mconfig\u001b[49m\u001b[43m.\u001b[49m\u001b[43mtrain\u001b[49m.links_path,\n\u001b[32m    322\u001b[39m     seqs_path=\u001b[38;5;28mself\u001b[39m.config.train.seqs_path,\n\u001b[32m    323\u001b[39m     contact_masks_path=\u001b[38;5;28mself\u001b[39m.config.contact_masks_path,\n\u001b[32m    324\u001b[39m     concat=\u001b[38;5;28mself\u001b[39m.config.train.concat,\n\u001b[32m    325\u001b[39m     max_examples=\u001b[38;5;28mself\u001b[39m.config.train.max_examples,\n\u001b[32m    326\u001b[39m     max_len=\u001b[38;5;28mself\u001b[39m.config.train.max_len,\n\u001b[32m    327\u001b[39m     overfit=\u001b[38;5;28mself\u001b[39m.config.train.overfit,\n\u001b[32m    328\u001b[39m )\n",
      "\u001b[36mFile \u001b[39m\u001b[32m~/workspace/mint/.venv/lib/python3.12/site-packages/omegaconf/dictconfig.py:355\u001b[39m, in \u001b[36mDictConfig.__getattr__\u001b[39m\u001b[34m(self, key)\u001b[39m\n\u001b[32m    351\u001b[39m     \u001b[38;5;28;01mreturn\u001b[39;00m \u001b[38;5;28mself\u001b[39m._get_impl(\n\u001b[32m    352\u001b[39m         key=key, default_value=_DEFAULT_MARKER_, validate_key=\u001b[38;5;28;01mFalse\u001b[39;00m\n\u001b[32m    353\u001b[39m     )\n\u001b[32m    354\u001b[39m \u001b[38;5;28;01mexcept\u001b[39;00m ConfigKeyError \u001b[38;5;28;01mas\u001b[39;00m e:\n\u001b[32m--> \u001b[39m\u001b[32m355\u001b[39m     \u001b[38;5;28;43mself\u001b[39;49m\u001b[43m.\u001b[49m\u001b[43m_format_and_raise\u001b[49m\u001b[43m(\u001b[49m\n\u001b[32m    356\u001b[39m \u001b[43m        \u001b[49m\u001b[43mkey\u001b[49m\u001b[43m=\u001b[49m\u001b[43mkey\u001b[49m\u001b[43m,\u001b[49m\u001b[43m \u001b[49m\u001b[43mvalue\u001b[49m\u001b[43m=\u001b[49m\u001b[38;5;28;43;01mNone\u001b[39;49;00m\u001b[43m,\u001b[49m\u001b[43m \u001b[49m\u001b[43mcause\u001b[49m\u001b[43m=\u001b[49m\u001b[43me\u001b[49m\u001b[43m,\u001b[49m\u001b[43m \u001b[49m\u001b[43mtype_override\u001b[49m\u001b[43m=\u001b[49m\u001b[43mConfigAttributeError\u001b[49m\n\u001b[32m    357\u001b[39m \u001b[43m    \u001b[49m\u001b[43m)\u001b[49m\n\u001b[32m    358\u001b[39m \u001b[38;5;28;01mexcept\u001b[39;00m \u001b[38;5;167;01mException\u001b[39;00m \u001b[38;5;28;01mas\u001b[39;00m e:\n\u001b[32m    359\u001b[39m     \u001b[38;5;28mself\u001b[39m._format_and_raise(key=key, value=\u001b[38;5;28;01mNone\u001b[39;00m, cause=e)\n",
      "\u001b[36mFile \u001b[39m\u001b[32m~/workspace/mint/.venv/lib/python3.12/site-packages/omegaconf/base.py:231\u001b[39m, in \u001b[36mNode._format_and_raise\u001b[39m\u001b[34m(self, key, value, cause, msg, type_override)\u001b[39m\n\u001b[32m    223\u001b[39m \u001b[38;5;28;01mdef\u001b[39;00m\u001b[38;5;250m \u001b[39m\u001b[34m_format_and_raise\u001b[39m(\n\u001b[32m    224\u001b[39m     \u001b[38;5;28mself\u001b[39m,\n\u001b[32m    225\u001b[39m     key: Any,\n\u001b[32m   (...)\u001b[39m\u001b[32m    229\u001b[39m     type_override: Any = \u001b[38;5;28;01mNone\u001b[39;00m,\n\u001b[32m    230\u001b[39m ) -> \u001b[38;5;28;01mNone\u001b[39;00m:\n\u001b[32m--> \u001b[39m\u001b[32m231\u001b[39m     \u001b[43mformat_and_raise\u001b[49m\u001b[43m(\u001b[49m\n\u001b[32m    232\u001b[39m \u001b[43m        \u001b[49m\u001b[43mnode\u001b[49m\u001b[43m=\u001b[49m\u001b[38;5;28;43mself\u001b[39;49m\u001b[43m,\u001b[49m\n\u001b[32m    233\u001b[39m \u001b[43m        \u001b[49m\u001b[43mkey\u001b[49m\u001b[43m=\u001b[49m\u001b[43mkey\u001b[49m\u001b[43m,\u001b[49m\n\u001b[32m    234\u001b[39m \u001b[43m        \u001b[49m\u001b[43mvalue\u001b[49m\u001b[43m=\u001b[49m\u001b[43mvalue\u001b[49m\u001b[43m,\u001b[49m\n\u001b[32m    235\u001b[39m \u001b[43m        \u001b[49m\u001b[43mmsg\u001b[49m\u001b[43m=\u001b[49m\u001b[38;5;28;43mstr\u001b[39;49m\u001b[43m(\u001b[49m\u001b[43mcause\u001b[49m\u001b[43m)\u001b[49m\u001b[43m \u001b[49m\u001b[38;5;28;43;01mif\u001b[39;49;00m\u001b[43m \u001b[49m\u001b[43mmsg\u001b[49m\u001b[43m \u001b[49m\u001b[38;5;129;43;01mis\u001b[39;49;00m\u001b[43m \u001b[49m\u001b[38;5;28;43;01mNone\u001b[39;49;00m\u001b[43m \u001b[49m\u001b[38;5;28;43;01melse\u001b[39;49;00m\u001b[43m \u001b[49m\u001b[43mmsg\u001b[49m\u001b[43m,\u001b[49m\n\u001b[32m    236\u001b[39m \u001b[43m        \u001b[49m\u001b[43mcause\u001b[49m\u001b[43m=\u001b[49m\u001b[43mcause\u001b[49m\u001b[43m,\u001b[49m\n\u001b[32m    237\u001b[39m \u001b[43m        \u001b[49m\u001b[43mtype_override\u001b[49m\u001b[43m=\u001b[49m\u001b[43mtype_override\u001b[49m\u001b[43m,\u001b[49m\n\u001b[32m    238\u001b[39m \u001b[43m    \u001b[49m\u001b[43m)\u001b[49m\n\u001b[32m    239\u001b[39m     \u001b[38;5;28;01massert\u001b[39;00m \u001b[38;5;28;01mFalse\u001b[39;00m\n",
      "\u001b[36mFile \u001b[39m\u001b[32m~/workspace/mint/.venv/lib/python3.12/site-packages/omegaconf/_utils.py:899\u001b[39m, in \u001b[36mformat_and_raise\u001b[39m\u001b[34m(node, key, value, msg, cause, type_override)\u001b[39m\n\u001b[32m    896\u001b[39m     ex.ref_type = ref_type\n\u001b[32m    897\u001b[39m     ex.ref_type_str = ref_type_str\n\u001b[32m--> \u001b[39m\u001b[32m899\u001b[39m \u001b[43m_raise\u001b[49m\u001b[43m(\u001b[49m\u001b[43mex\u001b[49m\u001b[43m,\u001b[49m\u001b[43m \u001b[49m\u001b[43mcause\u001b[49m\u001b[43m)\u001b[49m\n",
      "\u001b[36mFile \u001b[39m\u001b[32m~/workspace/mint/.venv/lib/python3.12/site-packages/omegaconf/_utils.py:797\u001b[39m, in \u001b[36m_raise\u001b[39m\u001b[34m(ex, cause)\u001b[39m\n\u001b[32m    795\u001b[39m \u001b[38;5;28;01melse\u001b[39;00m:\n\u001b[32m    796\u001b[39m     ex.__cause__ = \u001b[38;5;28;01mNone\u001b[39;00m\n\u001b[32m--> \u001b[39m\u001b[32m797\u001b[39m \u001b[38;5;28;01mraise\u001b[39;00m ex.with_traceback(sys.exc_info()[\u001b[32m2\u001b[39m])\n",
      "\u001b[36mFile \u001b[39m\u001b[32m~/workspace/mint/.venv/lib/python3.12/site-packages/omegaconf/dictconfig.py:351\u001b[39m, in \u001b[36mDictConfig.__getattr__\u001b[39m\u001b[34m(self, key)\u001b[39m\n\u001b[32m    348\u001b[39m     \u001b[38;5;28;01mraise\u001b[39;00m \u001b[38;5;167;01mAttributeError\u001b[39;00m()\n\u001b[32m    350\u001b[39m \u001b[38;5;28;01mtry\u001b[39;00m:\n\u001b[32m--> \u001b[39m\u001b[32m351\u001b[39m     \u001b[38;5;28;01mreturn\u001b[39;00m \u001b[38;5;28;43mself\u001b[39;49m\u001b[43m.\u001b[49m\u001b[43m_get_impl\u001b[49m\u001b[43m(\u001b[49m\n\u001b[32m    352\u001b[39m \u001b[43m        \u001b[49m\u001b[43mkey\u001b[49m\u001b[43m=\u001b[49m\u001b[43mkey\u001b[49m\u001b[43m,\u001b[49m\u001b[43m \u001b[49m\u001b[43mdefault_value\u001b[49m\u001b[43m=\u001b[49m\u001b[43m_DEFAULT_MARKER_\u001b[49m\u001b[43m,\u001b[49m\u001b[43m \u001b[49m\u001b[43mvalidate_key\u001b[49m\u001b[43m=\u001b[49m\u001b[38;5;28;43;01mFalse\u001b[39;49;00m\n\u001b[32m    353\u001b[39m \u001b[43m    \u001b[49m\u001b[43m)\u001b[49m\n\u001b[32m    354\u001b[39m \u001b[38;5;28;01mexcept\u001b[39;00m ConfigKeyError \u001b[38;5;28;01mas\u001b[39;00m e:\n\u001b[32m    355\u001b[39m     \u001b[38;5;28mself\u001b[39m._format_and_raise(\n\u001b[32m    356\u001b[39m         key=key, value=\u001b[38;5;28;01mNone\u001b[39;00m, cause=e, type_override=ConfigAttributeError\n\u001b[32m    357\u001b[39m     )\n",
      "\u001b[36mFile \u001b[39m\u001b[32m~/workspace/mint/.venv/lib/python3.12/site-packages/omegaconf/dictconfig.py:442\u001b[39m, in \u001b[36mDictConfig._get_impl\u001b[39m\u001b[34m(self, key, default_value, validate_key)\u001b[39m\n\u001b[32m    438\u001b[39m \u001b[38;5;28;01mdef\u001b[39;00m\u001b[38;5;250m \u001b[39m\u001b[34m_get_impl\u001b[39m(\n\u001b[32m    439\u001b[39m     \u001b[38;5;28mself\u001b[39m, key: DictKeyType, default_value: Any, validate_key: \u001b[38;5;28mbool\u001b[39m = \u001b[38;5;28;01mTrue\u001b[39;00m\n\u001b[32m    440\u001b[39m ) -> Any:\n\u001b[32m    441\u001b[39m     \u001b[38;5;28;01mtry\u001b[39;00m:\n\u001b[32m--> \u001b[39m\u001b[32m442\u001b[39m         node = \u001b[38;5;28;43mself\u001b[39;49m\u001b[43m.\u001b[49m\u001b[43m_get_child\u001b[49m\u001b[43m(\u001b[49m\n\u001b[32m    443\u001b[39m \u001b[43m            \u001b[49m\u001b[43mkey\u001b[49m\u001b[43m=\u001b[49m\u001b[43mkey\u001b[49m\u001b[43m,\u001b[49m\u001b[43m \u001b[49m\u001b[43mthrow_on_missing_key\u001b[49m\u001b[43m=\u001b[49m\u001b[38;5;28;43;01mTrue\u001b[39;49;00m\u001b[43m,\u001b[49m\u001b[43m \u001b[49m\u001b[43mvalidate_key\u001b[49m\u001b[43m=\u001b[49m\u001b[43mvalidate_key\u001b[49m\n\u001b[32m    444\u001b[39m \u001b[43m        \u001b[49m\u001b[43m)\u001b[49m\n\u001b[32m    445\u001b[39m     \u001b[38;5;28;01mexcept\u001b[39;00m (ConfigAttributeError, ConfigKeyError):\n\u001b[32m    446\u001b[39m         \u001b[38;5;28;01mif\u001b[39;00m default_value \u001b[38;5;129;01mis\u001b[39;00m \u001b[38;5;129;01mnot\u001b[39;00m _DEFAULT_MARKER_:\n",
      "\u001b[36mFile \u001b[39m\u001b[32m~/workspace/mint/.venv/lib/python3.12/site-packages/omegaconf/basecontainer.py:73\u001b[39m, in \u001b[36mBaseContainer._get_child\u001b[39m\u001b[34m(self, key, validate_access, validate_key, throw_on_missing_value, throw_on_missing_key)\u001b[39m\n\u001b[32m     64\u001b[39m \u001b[38;5;28;01mdef\u001b[39;00m\u001b[38;5;250m \u001b[39m\u001b[34m_get_child\u001b[39m(\n\u001b[32m     65\u001b[39m     \u001b[38;5;28mself\u001b[39m,\n\u001b[32m     66\u001b[39m     key: Any,\n\u001b[32m   (...)\u001b[39m\u001b[32m     70\u001b[39m     throw_on_missing_key: \u001b[38;5;28mbool\u001b[39m = \u001b[38;5;28;01mFalse\u001b[39;00m,\n\u001b[32m     71\u001b[39m ) -> Union[Optional[Node], List[Optional[Node]]]:\n\u001b[32m     72\u001b[39m \u001b[38;5;250m    \u001b[39m\u001b[33;03m\"\"\"Like _get_node, passing through to the nearest concrete Node.\"\"\"\u001b[39;00m\n\u001b[32m---> \u001b[39m\u001b[32m73\u001b[39m     child = \u001b[38;5;28;43mself\u001b[39;49m\u001b[43m.\u001b[49m\u001b[43m_get_node\u001b[49m\u001b[43m(\u001b[49m\n\u001b[32m     74\u001b[39m \u001b[43m        \u001b[49m\u001b[43mkey\u001b[49m\u001b[43m=\u001b[49m\u001b[43mkey\u001b[49m\u001b[43m,\u001b[49m\n\u001b[32m     75\u001b[39m \u001b[43m        \u001b[49m\u001b[43mvalidate_access\u001b[49m\u001b[43m=\u001b[49m\u001b[43mvalidate_access\u001b[49m\u001b[43m,\u001b[49m\n\u001b[32m     76\u001b[39m \u001b[43m        \u001b[49m\u001b[43mvalidate_key\u001b[49m\u001b[43m=\u001b[49m\u001b[43mvalidate_key\u001b[49m\u001b[43m,\u001b[49m\n\u001b[32m     77\u001b[39m \u001b[43m        \u001b[49m\u001b[43mthrow_on_missing_value\u001b[49m\u001b[43m=\u001b[49m\u001b[43mthrow_on_missing_value\u001b[49m\u001b[43m,\u001b[49m\n\u001b[32m     78\u001b[39m \u001b[43m        \u001b[49m\u001b[43mthrow_on_missing_key\u001b[49m\u001b[43m=\u001b[49m\u001b[43mthrow_on_missing_key\u001b[49m\u001b[43m,\u001b[49m\n\u001b[32m     79\u001b[39m \u001b[43m    \u001b[49m\u001b[43m)\u001b[49m\n\u001b[32m     80\u001b[39m     \u001b[38;5;28;01mif\u001b[39;00m \u001b[38;5;28misinstance\u001b[39m(child, UnionNode) \u001b[38;5;129;01mand\u001b[39;00m \u001b[38;5;129;01mnot\u001b[39;00m _is_special(child):\n\u001b[32m     81\u001b[39m         value = child._value()\n",
      "\u001b[36mFile \u001b[39m\u001b[32m~/workspace/mint/.venv/lib/python3.12/site-packages/omegaconf/dictconfig.py:480\u001b[39m, in \u001b[36mDictConfig._get_node\u001b[39m\u001b[34m(self, key, validate_access, validate_key, throw_on_missing_value, throw_on_missing_key)\u001b[39m\n\u001b[32m    478\u001b[39m \u001b[38;5;28;01mif\u001b[39;00m value \u001b[38;5;129;01mis\u001b[39;00m \u001b[38;5;28;01mNone\u001b[39;00m:\n\u001b[32m    479\u001b[39m     \u001b[38;5;28;01mif\u001b[39;00m throw_on_missing_key:\n\u001b[32m--> \u001b[39m\u001b[32m480\u001b[39m         \u001b[38;5;28;01mraise\u001b[39;00m ConfigKeyError(\u001b[33mf\u001b[39m\u001b[33m\"\u001b[39m\u001b[33mMissing key \u001b[39m\u001b[38;5;132;01m{\u001b[39;00mkey\u001b[38;5;132;01m!s}\u001b[39;00m\u001b[33m\"\u001b[39m)\n\u001b[32m    481\u001b[39m \u001b[38;5;28;01melif\u001b[39;00m throw_on_missing_value \u001b[38;5;129;01mand\u001b[39;00m value._is_missing():\n\u001b[32m    482\u001b[39m     \u001b[38;5;28;01mraise\u001b[39;00m MissingMandatoryValue(\u001b[33m\"\u001b[39m\u001b[33mMissing mandatory value: $KEY\u001b[39m\u001b[33m\"\u001b[39m)\n",
      "\u001b[31mConfigAttributeError\u001b[39m: Missing key train\n    full_key: train\n    object_type=dict"
     ]
    }
   ],
   "source": [
    "from mint.model.mint import MINT\n",
    "from omegaconf import OmegaConf\n",
    "\n",
    "cfg = OmegaConf.load(\n",
    "    \"/home/jovyan/workspace/mint/src/mint/configs/all_configs.yaml\"\n",
    ")  # -> DictConfig\n",
    "print(type(cfg))\n",
    "cfg.meta.code_base_dir = \"/home/jovyan/workspace/mint\"\n",
    "cfg.meta.data_dir = \"/home/jovyan/workspace/DATA\"\n",
    "cfg.meta.experiment_name = \"contact_head_test\"\n",
    "cfg.data.links_path = \"/home/jovyan/workspace/DATA/training.links.txt.gz\"\n",
    "cfg.data.seqs_path = \"/home/jovyan/workspace/DATA/training.seqs.txt.gz\"\n",
    "cfg.data.contact_masks_path = \"/home/jovyan/workspace/DATA/training.contact_masks.txt.gz\"\n",
    "\n",
    "print(cfg)\n",
    "\n",
    "model = MINT(cfg)\n",
    "test2 = PseudoMMDataModule(cfg)\n",
    "dl = test2.train_dataloader()\n",
    "batch = next(iter(dl))\n",
    "\n",
    "\n",
    "model.forward(batch)"
   ]
  }
 ],
 "metadata": {
  "kernelspec": {
   "display_name": "mint",
   "language": "python",
   "name": "python3"
  },
  "language_info": {
   "codemirror_mode": {
    "name": "ipython",
    "version": 3
   },
   "file_extension": ".py",
   "mimetype": "text/x-python",
   "name": "python",
   "nbconvert_exporter": "python",
   "pygments_lexer": "ipython3",
   "version": "3.12.9"
  }
 },
 "nbformat": 4,
 "nbformat_minor": 5
}
