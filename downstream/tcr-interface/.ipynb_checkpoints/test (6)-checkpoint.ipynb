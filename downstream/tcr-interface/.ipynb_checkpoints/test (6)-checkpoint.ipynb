{
 "cells": [
  {
   "cell_type": "code",
   "execution_count": 6,
   "id": "f1af522e-e079-445d-9da7-916aa599c6ea",
   "metadata": {},
   "outputs": [],
   "source": [
    "from teim_utils import *"
   ]
  },
  {
   "cell_type": "code",
   "execution_count": 8,
   "id": "ef6b5626-eb2f-424f-8dcf-ac9c982074cb",
   "metadata": {},
   "outputs": [
    {
     "name": "stdout",
     "output_type": "stream",
     "text": [
      "original negative samples\n"
     ]
    }
   ],
   "source": [
    "config = load_config('./TEIM/train_teim/configs/seqlevel_all.yml')\n",
    "config.data.path = './TEIM/data/binding_data'\n",
    "config.data.negative = 'original'\n",
    "\n",
    "datasets = load_data(config.data)"
   ]
  },
  {
   "cell_type": "code",
   "execution_count": 2,
   "id": "8af9be69-1f07-4d0b-84d0-1de91905cc04",
   "metadata": {},
   "outputs": [],
   "source": [
    "config = load_config('./TEIM/train_teim/configs/reslevel_bothnew.yml')\n",
    "config.data.path.summary = './TEIM/data/stcrdab_pdb.csv'\n",
    "config.data.path.mat = './TEIM/data/contact_map'\n",
    "\n",
    "#config.data.negative = 'original'"
   ]
  },
  {
   "cell_type": "code",
   "execution_count": 3,
   "id": "9353b964-a16c-429c-91dc-a4f7b7125e6f",
   "metadata": {},
   "outputs": [
    {
     "name": "stderr",
     "output_type": "stream",
     "text": [
      "Encoding cdr3s: 100%|██████████████████████| 122/122 [00:00<00:00, 84789.58it/s]\n",
      "Encoding epi seqs: 100%|██████████████████| 122/122 [00:00<00:00, 118340.68it/s]\n",
      "Encoding dist mat: 100%|██████████████████| 122/122 [00:00<00:00, 162291.50it/s]\n"
     ]
    }
   ],
   "source": [
    "data = load_data(config.data)"
   ]
  },
  {
   "cell_type": "code",
   "execution_count": null,
   "id": "056e09c9-11cf-4b5c-a1de-fc61ca8821c6",
   "metadata": {},
   "outputs": [],
   "source": [
    "cdr3s = []\n",
    "epis = []\n",
    "labels = []\n",
    "\n",
    "dataset = data['train'][0]\n",
    "\n",
    "for i in range(len(dataset)):\n",
    "    inp = dataset[i]\n",
    "    cdr3s.append(inp['cdr3'])\n",
    "    epis.append(inp['epi'])\n",
    "    labels.append(inp['labels'])\n",
    "\n",
    "train_df = pd.DataFrame({'cdr3': cdr3s, 'epi': epis, 'Y': labels})"
   ]
  },
  {
   "cell_type": "code",
   "execution_count": null,
   "id": "a633d92e-f910-43a4-b466-55129964bca7",
   "metadata": {},
   "outputs": [],
   "source": [
    "cdr3s = []\n",
    "epis = []\n",
    "labels = []\n",
    "\n",
    "dataset = data['val'][0]\n",
    "\n",
    "for i in range(len(dataset)):\n",
    "    inp = dataset[i]\n",
    "    cdr3s.append(inp['cdr3'])\n",
    "    epis.append(inp['epi'])\n",
    "    labels.append(inp['labels'])\n",
    "\n",
    "val_df = pd.DataFrame({'cdr3': cdr3s, 'epi': epis, 'Y': labels})"
   ]
  },
  {
   "cell_type": "code",
   "execution_count": null,
   "id": "578ac12a-567e-441d-ad1b-80e576bb493d",
   "metadata": {},
   "outputs": [],
   "source": [
    "train_df.to_csv('processed_data_seq_train.csv')\n",
    "val_df.to_csv('processed_data_seq_val.csv')"
   ]
  },
  {
   "cell_type": "code",
   "execution_count": null,
   "id": "47debf05-92d6-4a02-8ece-7e631622ce47",
   "metadata": {},
   "outputs": [],
   "source": [
    "\n"
   ]
  },
  {
   "cell_type": "code",
   "execution_count": 1,
   "id": "f60ff730-4bde-48d4-998d-e42d14ed7efc",
   "metadata": {},
   "outputs": [],
   "source": [
    "import pandas as pd\n",
    "import glob, os\n",
    "import seaborn as sns\n",
    "import matplotlib.pyplot as plt"
   ]
  },
  {
   "cell_type": "code",
   "execution_count": 36,
   "id": "53968701-3df1-4d52-9590-3c91ede600df",
   "metadata": {},
   "outputs": [],
   "source": [
    "def concat_dataframes_from_paths(file_paths):\n",
    "    \n",
    "    # Read each file into a dataframe and store in a list\n",
    "    df_list = [pd.read_csv(file_path) for file_path in file_paths]\n",
    "\n",
    "    for i in range(len(df_list)):\n",
    "        df_list[i]['split'] = i\n",
    "\n",
    "    # Concatenate the list of dataframes\n",
    "    return pd.concat(df_list, ignore_index=True)\n",
    "\n",
    "def get_results(fl_names, split='reslevel_newcdr3'):\n",
    "\n",
    "    #splits = ['reslevel_newcdr3', 'reslevel_newepi']\n",
    "\n",
    "    out_dict = {'Method':[], 'AUPRC': [], 'AUROC': []}\n",
    "\n",
    "    for fl_name in fl_names:\n",
    "        metric_fls = [os.path.join('results', fl_name, split, f'metrics_{i}.csv') for i in [0,2,4]]\n",
    "        df_full = concat_dataframes_from_paths(metric_fls)\n",
    "        num = len(df_full)\n",
    "        \n",
    "        out_dict['Method'] += [fl_name]*num\n",
    "        out_dict['AUPRC'] += df_full.loc[:, 'auprc'].tolist()\n",
    "        out_dict['AUROC'] += df_full.loc[:, 'auc'].tolist()\n",
    "\n",
    "    df = pd.DataFrame.from_dict(out_dict)\n",
    "    return df\n",
    "\n",
    "def make_plot(df):\n",
    "    df_long = df.melt(var_name=\"Method\", value_name=\"AUPRC\", id_vars='split')\n",
    "\n",
    "    # Create the boxplot\n",
    "    plt.figure(figsize=(10, 6))\n",
    "\n",
    "    sns.stripplot(\n",
    "        data=df_long, x='split', y='AUPRC', hue='Method',\n",
    "        dodge=True, alpha=.2, legend=False,\n",
    "    )\n",
    "    sns.pointplot(\n",
    "        data=df_long, x='split', y='AUPRC', hue='Method',\n",
    "        dodge=.4, errorbar=None, linestyles=\"none\",\n",
    "        markers=\"_\"\n",
    "    )\n",
    "    \n",
    "    plt.xticks(rotation=45)\n",
    "    plt.title(\"Boxplot of AUPRC values by Method\")\n",
    "    plt.show()"
   ]
  },
  {
   "cell_type": "code",
   "execution_count": 37,
   "id": "ac1c2e1a-1290-48da-8b6d-47f36aa01edf",
   "metadata": {},
   "outputs": [],
   "source": [
    "cdr3_df = get_results( ['teim','pretrain'], split='reslevel_newcdr3')\n",
    "epi_df = get_results( ['teim','no_pretrain'], split='reslevel_newepi')"
   ]
  },
  {
   "cell_type": "code",
   "execution_count": 40,
   "id": "6d630b36-83e8-475d-8cc5-cebac93f9540",
   "metadata": {},
   "outputs": [],
   "source": [
    "cdr3_df.to_csv('cdr3_results.csv')\n",
    "epi_df.to_csv('epi_results.csv')"
   ]
  },
  {
   "cell_type": "code",
   "execution_count": 30,
   "id": "9698f055-b9a8-45d8-b1dd-5521abe1fc63",
   "metadata": {},
   "outputs": [
    {
     "data": {
      "text/plain": [
       "teim        0.550676\n",
       "pretrain    0.559745\n",
       "split       0.986301\n",
       "dtype: float64"
      ]
     },
     "execution_count": 30,
     "metadata": {},
     "output_type": "execute_result"
    }
   ],
   "source": [
    "cdr3_df.mean()"
   ]
  },
  {
   "cell_type": "code",
   "execution_count": 31,
   "id": "08d8c161-5904-4aad-a612-442e54ee795f",
   "metadata": {},
   "outputs": [
    {
     "data": {
      "text/plain": [
       "teim           0.602436\n",
       "no_pretrain    0.622063\n",
       "split          0.986301\n",
       "dtype: float64"
      ]
     },
     "execution_count": 31,
     "metadata": {},
     "output_type": "execute_result"
    }
   ],
   "source": [
    "epi_df.mean()"
   ]
  },
  {
   "cell_type": "code",
   "execution_count": 21,
   "id": "cf5e4f38-243b-48e5-97af-11d99e1def26",
   "metadata": {},
   "outputs": [],
   "source": [
    "# make_plot(cdr3_df)"
   ]
  },
  {
   "cell_type": "code",
   "execution_count": 22,
   "id": "0006b613-2f61-4cfb-8c4f-9ef68c9ee55d",
   "metadata": {},
   "outputs": [],
   "source": [
    "# make_plot(epi_df)"
   ]
  },
  {
   "cell_type": "code",
   "execution_count": null,
   "id": "e9c44d49-3428-4e60-8cd1-e9534eaeb509",
   "metadata": {},
   "outputs": [],
   "source": []
  }
 ],
 "metadata": {
  "kernelspec": {
   "display_name": "Python 3 (ipykernel)",
   "language": "python",
   "name": "python3"
  },
  "language_info": {
   "codemirror_mode": {
    "name": "ipython",
    "version": 3
   },
   "file_extension": ".py",
   "mimetype": "text/x-python",
   "name": "python",
   "nbconvert_exporter": "python",
   "pygments_lexer": "ipython3",
   "version": "3.9.12"
  }
 },
 "nbformat": 4,
 "nbformat_minor": 5
}
