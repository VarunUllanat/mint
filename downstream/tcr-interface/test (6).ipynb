{
 "cells": [
  {
   "cell_type": "code",
   "execution_count": 6,
   "id": "f1af522e-e079-445d-9da7-916aa599c6ea",
   "metadata": {},
   "outputs": [],
   "source": [
    "from teim_utils import *"
   ]
  },
  {
   "cell_type": "code",
   "execution_count": 8,
   "id": "ef6b5626-eb2f-424f-8dcf-ac9c982074cb",
   "metadata": {},
   "outputs": [
    {
     "name": "stdout",
     "output_type": "stream",
     "text": [
      "original negative samples\n"
     ]
    }
   ],
   "source": [
    "config = load_config('./TEIM/train_teim/configs/seqlevel_all.yml')\n",
    "config.data.path = './TEIM/data/binding_data'\n",
    "config.data.negative = 'original'\n",
    "\n",
    "datasets = load_data(config.data)"
   ]
  },
  {
   "cell_type": "code",
   "execution_count": 9,
   "id": "d8f267ff-06c2-4436-bc77-9f252763e31c",
   "metadata": {},
   "outputs": [
    {
     "data": {
      "text/plain": [
       "{'cdr3': array([ 0,  0, 17,  2, 15, 15,  6,  4, 14, 16, 15,  1,  9, 18,  8, 11, 13,\n",
       "         8,  6,  0]),\n",
       " 'epi': array([ 0,  1,  3,  8,  9,  1, 20, 11, 19, 16,  3,  0]),\n",
       " 'dist_mat': array([[ 0.       ,  0.       ,  0.       ,  0.       ,  0.       ,\n",
       "          0.       ,  0.       ,  0.       ,  0.       ,  0.       ,\n",
       "          0.       ,  0.       ],\n",
       "        [ 0.       ,  0.       ,  0.       ,  0.       ,  0.       ,\n",
       "          0.       ,  0.       ,  0.       ,  0.       ,  0.       ,\n",
       "          0.       ,  0.       ],\n",
       "        [ 0.       , 28.258104 , 25.601866 , 24.054539 , 20.20123  ,\n",
       "         21.433758 , 20.65299  , 22.668636 , 24.149504 , 27.24016  ,\n",
       "         30.860058 ,  0.       ],\n",
       "        [ 0.       , 25.240438 , 22.572453 , 20.736668 , 17.012573 ,\n",
       "         18.074097 , 17.38769  , 19.084782 , 20.728634 , 23.95595  ,\n",
       "         27.522808 ,  0.       ],\n",
       "        [ 0.       , 23.15176  , 20.187065 , 17.423538 , 14.274639 ,\n",
       "         14.879183 , 13.256744 , 15.610338 , 16.724874 , 20.332499 ,\n",
       "         23.894602 ,  0.       ],\n",
       "        [ 0.       , 18.794533 , 15.847141 , 13.928439 , 10.080926 ,\n",
       "         11.118695 , 10.685371 , 12.256546 , 14.090269 , 16.96543  ,\n",
       "         20.544954 ,  0.       ],\n",
       "        [ 0.       , 17.481167 , 14.395898 , 11.95761  ,  8.636257 ,\n",
       "          8.957153 ,  6.5940075,  9.185769 , 10.22574  , 13.265197 ,\n",
       "         16.907368 ,  0.       ],\n",
       "        [ 0.       , 16.022554 , 12.558056 ,  9.749592 ,  7.6132326,\n",
       "          6.801236 ,  5.816005 ,  6.317037 ,  8.873556 , 10.890182 ,\n",
       "         14.48407  ,  0.       ],\n",
       "        [ 0.       , 11.469088 ,  7.629378 ,  6.1202364,  4.8153296,\n",
       "          3.5322084,  3.3681772,  2.7411482,  5.4561806,  7.988018 ,\n",
       "         11.5785675,  0.       ],\n",
       "        [ 0.       , 15.080547 , 10.459394 ,  8.3224325,  7.9616   ,\n",
       "          6.0501857,  5.5289145,  3.6844962,  6.1707397,  6.5798182,\n",
       "         10.105215 ,  0.       ],\n",
       "        [ 0.       , 18.004162 , 14.018001 , 10.412673 , 10.17515  ,\n",
       "          8.253426 ,  3.5340986,  5.3813696,  6.8423996,  8.817725 ,\n",
       "         12.2857685,  0.       ],\n",
       "        [ 0.       , 16.47762  , 13.55387  ,  7.8521996,  7.7682137,\n",
       "          6.044707 ,  3.3639674,  5.3151035,  6.875865 ,  9.817492 ,\n",
       "         13.345042 ,  0.       ],\n",
       "        [ 0.       , 16.272373 , 13.719387 ,  8.330237 ,  7.6252522,\n",
       "          6.794267 ,  3.8547215,  7.171746 ,  7.1822968, 11.550696 ,\n",
       "         15.040535 ,  0.       ],\n",
       "        [ 0.       , 13.38426  , 10.444956 ,  6.871842 ,  4.1591463,\n",
       "          4.2269244,  4.089981 ,  6.068256 ,  8.681549 , 12.221871 ,\n",
       "         15.753153 ,  0.       ],\n",
       "        [ 0.       , 10.07922  ,  7.63047  ,  6.9903865,  2.6248848,\n",
       "          4.7300406,  6.2552247,  9.431748 , 11.71699  , 15.711249 ,\n",
       "         19.257584 ,  0.       ],\n",
       "        [ 0.       , 18.386843 , 15.735608 , 11.744363 ,  9.589043 ,\n",
       "          9.729972 ,  7.860736 , 11.666216 , 11.443696 , 16.968338 ,\n",
       "         20.207535 ,  0.       ],\n",
       "        [ 0.       , 20.877338 , 18.21493  , 14.89182  , 12.21378  ,\n",
       "         12.721678 , 12.1751   , 14.571797 , 15.476342 , 20.036333 ,\n",
       "         23.584251 ,  0.       ],\n",
       "        [ 0.       , 24.086603 , 21.310041 , 16.603237 , 15.271219 ,\n",
       "         14.986536 , 10.358021 , 15.428004 , 14.171029 , 19.28511  ,\n",
       "         22.609589 ,  0.       ],\n",
       "        [ 0.       , 25.248098 , 22.814873 , 20.843578 , 17.42336  ,\n",
       "         18.369766 , 17.244997 , 20.551012 , 20.881441 , 25.31503  ,\n",
       "         28.814491 ,  0.       ],\n",
       "        [ 0.       ,  0.       ,  0.       ,  0.       ,  0.       ,\n",
       "          0.       ,  0.       ,  0.       ,  0.       ,  0.       ,\n",
       "          0.       ,  0.       ]], dtype=float32),\n",
       " 'pdb_chains': '6tro_ED_C',\n",
       " 'mask_mat': array([[False, False, False, False, False, False, False, False, False,\n",
       "         False, False, False],\n",
       "        [False, False, False, False, False, False, False, False, False,\n",
       "         False, False, False],\n",
       "        [False,  True,  True,  True,  True,  True,  True,  True,  True,\n",
       "          True,  True, False],\n",
       "        [False,  True,  True,  True,  True,  True,  True,  True,  True,\n",
       "          True,  True, False],\n",
       "        [False,  True,  True,  True,  True,  True,  True,  True,  True,\n",
       "          True,  True, False],\n",
       "        [False,  True,  True,  True,  True,  True,  True,  True,  True,\n",
       "          True,  True, False],\n",
       "        [False,  True,  True,  True,  True,  True,  True,  True,  True,\n",
       "          True,  True, False],\n",
       "        [False,  True,  True,  True,  True,  True,  True,  True,  True,\n",
       "          True,  True, False],\n",
       "        [False,  True,  True,  True,  True,  True,  True,  True,  True,\n",
       "          True,  True, False],\n",
       "        [False,  True,  True,  True,  True,  True,  True,  True,  True,\n",
       "          True,  True, False],\n",
       "        [False,  True,  True,  True,  True,  True,  True,  True,  True,\n",
       "          True,  True, False],\n",
       "        [False,  True,  True,  True,  True,  True,  True,  True,  True,\n",
       "          True,  True, False],\n",
       "        [False,  True,  True,  True,  True,  True,  True,  True,  True,\n",
       "          True,  True, False],\n",
       "        [False,  True,  True,  True,  True,  True,  True,  True,  True,\n",
       "          True,  True, False],\n",
       "        [False,  True,  True,  True,  True,  True,  True,  True,  True,\n",
       "          True,  True, False],\n",
       "        [False,  True,  True,  True,  True,  True,  True,  True,  True,\n",
       "          True,  True, False],\n",
       "        [False,  True,  True,  True,  True,  True,  True,  True,  True,\n",
       "          True,  True, False],\n",
       "        [False,  True,  True,  True,  True,  True,  True,  True,  True,\n",
       "          True,  True, False],\n",
       "        [False,  True,  True,  True,  True,  True,  True,  True,  True,\n",
       "          True,  True, False],\n",
       "        [False, False, False, False, False, False, False, False, False,\n",
       "         False, False, False]]),\n",
       " 'contact_mat': array([[1, 1, 1, 1, 1, 1, 1, 1, 1, 1, 1, 1],\n",
       "        [1, 1, 1, 1, 1, 1, 1, 1, 1, 1, 1, 1],\n",
       "        [1, 0, 0, 0, 0, 0, 0, 0, 0, 0, 0, 1],\n",
       "        [1, 0, 0, 0, 0, 0, 0, 0, 0, 0, 0, 1],\n",
       "        [1, 0, 0, 0, 0, 0, 0, 0, 0, 0, 0, 1],\n",
       "        [1, 0, 0, 0, 0, 0, 0, 0, 0, 0, 0, 1],\n",
       "        [1, 0, 0, 0, 0, 0, 0, 0, 0, 0, 0, 1],\n",
       "        [1, 0, 0, 0, 0, 0, 0, 0, 0, 0, 0, 1],\n",
       "        [1, 0, 0, 0, 1, 1, 1, 1, 0, 0, 0, 1],\n",
       "        [1, 0, 0, 0, 0, 0, 0, 1, 0, 0, 0, 1],\n",
       "        [1, 0, 0, 0, 0, 0, 1, 0, 0, 0, 0, 1],\n",
       "        [1, 0, 0, 0, 0, 0, 1, 0, 0, 0, 0, 1],\n",
       "        [1, 0, 0, 0, 0, 0, 1, 0, 0, 0, 0, 1],\n",
       "        [1, 0, 0, 0, 1, 1, 1, 0, 0, 0, 0, 1],\n",
       "        [1, 0, 0, 0, 1, 1, 0, 0, 0, 0, 0, 1],\n",
       "        [1, 0, 0, 0, 0, 0, 0, 0, 0, 0, 0, 1],\n",
       "        [1, 0, 0, 0, 0, 0, 0, 0, 0, 0, 0, 1],\n",
       "        [1, 0, 0, 0, 0, 0, 0, 0, 0, 0, 0, 1],\n",
       "        [1, 0, 0, 0, 0, 0, 0, 0, 0, 0, 0, 1],\n",
       "        [1, 1, 1, 1, 1, 1, 1, 1, 1, 1, 1, 1]]),\n",
       " 'cdr3_seqs': 'CASSFLMTSGDPYEQYF',\n",
       " 'epi_seqs': 'GVYDGREHTV'}"
      ]
     },
     "execution_count": 9,
     "metadata": {},
     "output_type": "execute_result"
    }
   ],
   "source": [
    "data['train'][0][0]"
   ]
  },
  {
   "cell_type": "code",
   "execution_count": 2,
   "id": "8af9be69-1f07-4d0b-84d0-1de91905cc04",
   "metadata": {},
   "outputs": [],
   "source": [
    "config = load_config('./TEIM/train_teim/configs/reslevel_bothnew.yml')\n",
    "config.data.path.summary = './TEIM/data/stcrdab_pdb.csv'\n",
    "config.data.path.mat = './TEIM/data/contact_map'\n",
    "\n",
    "#config.data.negative = 'original'"
   ]
  },
  {
   "cell_type": "code",
   "execution_count": 3,
   "id": "9353b964-a16c-429c-91dc-a4f7b7125e6f",
   "metadata": {},
   "outputs": [
    {
     "name": "stderr",
     "output_type": "stream",
     "text": [
      "Encoding cdr3s: 100%|██████████████████████| 122/122 [00:00<00:00, 84789.58it/s]\n",
      "Encoding epi seqs: 100%|██████████████████| 122/122 [00:00<00:00, 118340.68it/s]\n",
      "Encoding dist mat: 100%|██████████████████| 122/122 [00:00<00:00, 162291.50it/s]\n"
     ]
    }
   ],
   "source": [
    "data = load_data(config.data)"
   ]
  },
  {
   "cell_type": "code",
   "execution_count": 4,
   "id": "10bb0e94-8647-4925-b7c9-7fd2006b2f15",
   "metadata": {},
   "outputs": [
    {
     "data": {
      "text/plain": [
       "{'cdr3': array([ 0,  0, 17,  2, 15, 15,  6,  4, 14, 16, 15,  1,  9, 18,  8, 11, 13,\n",
       "         8,  6,  0]),\n",
       " 'epi': array([ 0,  1,  3,  8,  9,  1, 20, 11, 19, 16,  3,  0]),\n",
       " 'dist_mat': array([[ 0.       ,  0.       ,  0.       ,  0.       ,  0.       ,\n",
       "          0.       ,  0.       ,  0.       ,  0.       ,  0.       ,\n",
       "          0.       ,  0.       ],\n",
       "        [ 0.       ,  0.       ,  0.       ,  0.       ,  0.       ,\n",
       "          0.       ,  0.       ,  0.       ,  0.       ,  0.       ,\n",
       "          0.       ,  0.       ],\n",
       "        [ 0.       , 28.258104 , 25.601866 , 24.054539 , 20.20123  ,\n",
       "         21.433758 , 20.65299  , 22.668636 , 24.149504 , 27.24016  ,\n",
       "         30.860058 ,  0.       ],\n",
       "        [ 0.       , 25.240438 , 22.572453 , 20.736668 , 17.012573 ,\n",
       "         18.074097 , 17.38769  , 19.084782 , 20.728634 , 23.95595  ,\n",
       "         27.522808 ,  0.       ],\n",
       "        [ 0.       , 23.15176  , 20.187065 , 17.423538 , 14.274639 ,\n",
       "         14.879183 , 13.256744 , 15.610338 , 16.724874 , 20.332499 ,\n",
       "         23.894602 ,  0.       ],\n",
       "        [ 0.       , 18.794533 , 15.847141 , 13.928439 , 10.080926 ,\n",
       "         11.118695 , 10.685371 , 12.256546 , 14.090269 , 16.96543  ,\n",
       "         20.544954 ,  0.       ],\n",
       "        [ 0.       , 17.481167 , 14.395898 , 11.95761  ,  8.636257 ,\n",
       "          8.957153 ,  6.5940075,  9.185769 , 10.22574  , 13.265197 ,\n",
       "         16.907368 ,  0.       ],\n",
       "        [ 0.       , 16.022554 , 12.558056 ,  9.749592 ,  7.6132326,\n",
       "          6.801236 ,  5.816005 ,  6.317037 ,  8.873556 , 10.890182 ,\n",
       "         14.48407  ,  0.       ],\n",
       "        [ 0.       , 11.469088 ,  7.629378 ,  6.1202364,  4.8153296,\n",
       "          3.5322084,  3.3681772,  2.7411482,  5.4561806,  7.988018 ,\n",
       "         11.5785675,  0.       ],\n",
       "        [ 0.       , 15.080547 , 10.459394 ,  8.3224325,  7.9616   ,\n",
       "          6.0501857,  5.5289145,  3.6844962,  6.1707397,  6.5798182,\n",
       "         10.105215 ,  0.       ],\n",
       "        [ 0.       , 18.004162 , 14.018001 , 10.412673 , 10.17515  ,\n",
       "          8.253426 ,  3.5340986,  5.3813696,  6.8423996,  8.817725 ,\n",
       "         12.2857685,  0.       ],\n",
       "        [ 0.       , 16.47762  , 13.55387  ,  7.8521996,  7.7682137,\n",
       "          6.044707 ,  3.3639674,  5.3151035,  6.875865 ,  9.817492 ,\n",
       "         13.345042 ,  0.       ],\n",
       "        [ 0.       , 16.272373 , 13.719387 ,  8.330237 ,  7.6252522,\n",
       "          6.794267 ,  3.8547215,  7.171746 ,  7.1822968, 11.550696 ,\n",
       "         15.040535 ,  0.       ],\n",
       "        [ 0.       , 13.38426  , 10.444956 ,  6.871842 ,  4.1591463,\n",
       "          4.2269244,  4.089981 ,  6.068256 ,  8.681549 , 12.221871 ,\n",
       "         15.753153 ,  0.       ],\n",
       "        [ 0.       , 10.07922  ,  7.63047  ,  6.9903865,  2.6248848,\n",
       "          4.7300406,  6.2552247,  9.431748 , 11.71699  , 15.711249 ,\n",
       "         19.257584 ,  0.       ],\n",
       "        [ 0.       , 18.386843 , 15.735608 , 11.744363 ,  9.589043 ,\n",
       "          9.729972 ,  7.860736 , 11.666216 , 11.443696 , 16.968338 ,\n",
       "         20.207535 ,  0.       ],\n",
       "        [ 0.       , 20.877338 , 18.21493  , 14.89182  , 12.21378  ,\n",
       "         12.721678 , 12.1751   , 14.571797 , 15.476342 , 20.036333 ,\n",
       "         23.584251 ,  0.       ],\n",
       "        [ 0.       , 24.086603 , 21.310041 , 16.603237 , 15.271219 ,\n",
       "         14.986536 , 10.358021 , 15.428004 , 14.171029 , 19.28511  ,\n",
       "         22.609589 ,  0.       ],\n",
       "        [ 0.       , 25.248098 , 22.814873 , 20.843578 , 17.42336  ,\n",
       "         18.369766 , 17.244997 , 20.551012 , 20.881441 , 25.31503  ,\n",
       "         28.814491 ,  0.       ],\n",
       "        [ 0.       ,  0.       ,  0.       ,  0.       ,  0.       ,\n",
       "          0.       ,  0.       ,  0.       ,  0.       ,  0.       ,\n",
       "          0.       ,  0.       ]], dtype=float32),\n",
       " 'pdb_chains': '6tro_ED_C',\n",
       " 'mask_mat': array([[False, False, False, False, False, False, False, False, False,\n",
       "         False, False, False],\n",
       "        [False, False, False, False, False, False, False, False, False,\n",
       "         False, False, False],\n",
       "        [False,  True,  True,  True,  True,  True,  True,  True,  True,\n",
       "          True,  True, False],\n",
       "        [False,  True,  True,  True,  True,  True,  True,  True,  True,\n",
       "          True,  True, False],\n",
       "        [False,  True,  True,  True,  True,  True,  True,  True,  True,\n",
       "          True,  True, False],\n",
       "        [False,  True,  True,  True,  True,  True,  True,  True,  True,\n",
       "          True,  True, False],\n",
       "        [False,  True,  True,  True,  True,  True,  True,  True,  True,\n",
       "          True,  True, False],\n",
       "        [False,  True,  True,  True,  True,  True,  True,  True,  True,\n",
       "          True,  True, False],\n",
       "        [False,  True,  True,  True,  True,  True,  True,  True,  True,\n",
       "          True,  True, False],\n",
       "        [False,  True,  True,  True,  True,  True,  True,  True,  True,\n",
       "          True,  True, False],\n",
       "        [False,  True,  True,  True,  True,  True,  True,  True,  True,\n",
       "          True,  True, False],\n",
       "        [False,  True,  True,  True,  True,  True,  True,  True,  True,\n",
       "          True,  True, False],\n",
       "        [False,  True,  True,  True,  True,  True,  True,  True,  True,\n",
       "          True,  True, False],\n",
       "        [False,  True,  True,  True,  True,  True,  True,  True,  True,\n",
       "          True,  True, False],\n",
       "        [False,  True,  True,  True,  True,  True,  True,  True,  True,\n",
       "          True,  True, False],\n",
       "        [False,  True,  True,  True,  True,  True,  True,  True,  True,\n",
       "          True,  True, False],\n",
       "        [False,  True,  True,  True,  True,  True,  True,  True,  True,\n",
       "          True,  True, False],\n",
       "        [False,  True,  True,  True,  True,  True,  True,  True,  True,\n",
       "          True,  True, False],\n",
       "        [False,  True,  True,  True,  True,  True,  True,  True,  True,\n",
       "          True,  True, False],\n",
       "        [False, False, False, False, False, False, False, False, False,\n",
       "         False, False, False]]),\n",
       " 'contact_mat': array([[1, 1, 1, 1, 1, 1, 1, 1, 1, 1, 1, 1],\n",
       "        [1, 1, 1, 1, 1, 1, 1, 1, 1, 1, 1, 1],\n",
       "        [1, 0, 0, 0, 0, 0, 0, 0, 0, 0, 0, 1],\n",
       "        [1, 0, 0, 0, 0, 0, 0, 0, 0, 0, 0, 1],\n",
       "        [1, 0, 0, 0, 0, 0, 0, 0, 0, 0, 0, 1],\n",
       "        [1, 0, 0, 0, 0, 0, 0, 0, 0, 0, 0, 1],\n",
       "        [1, 0, 0, 0, 0, 0, 0, 0, 0, 0, 0, 1],\n",
       "        [1, 0, 0, 0, 0, 0, 0, 0, 0, 0, 0, 1],\n",
       "        [1, 0, 0, 0, 1, 1, 1, 1, 0, 0, 0, 1],\n",
       "        [1, 0, 0, 0, 0, 0, 0, 1, 0, 0, 0, 1],\n",
       "        [1, 0, 0, 0, 0, 0, 1, 0, 0, 0, 0, 1],\n",
       "        [1, 0, 0, 0, 0, 0, 1, 0, 0, 0, 0, 1],\n",
       "        [1, 0, 0, 0, 0, 0, 1, 0, 0, 0, 0, 1],\n",
       "        [1, 0, 0, 0, 1, 1, 1, 0, 0, 0, 0, 1],\n",
       "        [1, 0, 0, 0, 1, 1, 0, 0, 0, 0, 0, 1],\n",
       "        [1, 0, 0, 0, 0, 0, 0, 0, 0, 0, 0, 1],\n",
       "        [1, 0, 0, 0, 0, 0, 0, 0, 0, 0, 0, 1],\n",
       "        [1, 0, 0, 0, 0, 0, 0, 0, 0, 0, 0, 1],\n",
       "        [1, 0, 0, 0, 0, 0, 0, 0, 0, 0, 0, 1],\n",
       "        [1, 1, 1, 1, 1, 1, 1, 1, 1, 1, 1, 1]]),\n",
       " 'cdr3_seqs': 'CASSFLMTSGDPYEQYF',\n",
       " 'epi_seqs': 'GVYDGREHTV'}"
      ]
     },
     "execution_count": 4,
     "metadata": {},
     "output_type": "execute_result"
    }
   ],
   "source": [
    "data['train'][0][0]"
   ]
  },
  {
   "cell_type": "code",
   "execution_count": null,
   "id": "056e09c9-11cf-4b5c-a1de-fc61ca8821c6",
   "metadata": {},
   "outputs": [],
   "source": [
    "cdr3s = []\n",
    "epis = []\n",
    "labels = []\n",
    "\n",
    "dataset = data['train'][0]\n",
    "\n",
    "for i in range(len(dataset)):\n",
    "    inp = dataset[i]\n",
    "    cdr3s.append(inp['cdr3'])\n",
    "    epis.append(inp['epi'])\n",
    "    labels.append(inp['labels'])\n",
    "\n",
    "train_df = pd.DataFrame({'cdr3': cdr3s, 'epi': epis, 'Y': labels})"
   ]
  },
  {
   "cell_type": "code",
   "execution_count": null,
   "id": "a633d92e-f910-43a4-b466-55129964bca7",
   "metadata": {},
   "outputs": [],
   "source": [
    "cdr3s = []\n",
    "epis = []\n",
    "labels = []\n",
    "\n",
    "dataset = data['val'][0]\n",
    "\n",
    "for i in range(len(dataset)):\n",
    "    inp = dataset[i]\n",
    "    cdr3s.append(inp['cdr3'])\n",
    "    epis.append(inp['epi'])\n",
    "    labels.append(inp['labels'])\n",
    "\n",
    "val_df = pd.DataFrame({'cdr3': cdr3s, 'epi': epis, 'Y': labels})"
   ]
  },
  {
   "cell_type": "code",
   "execution_count": null,
   "id": "578ac12a-567e-441d-ad1b-80e576bb493d",
   "metadata": {},
   "outputs": [],
   "source": [
    "train_df.to_csv('processed_data_seq_train.csv')\n",
    "val_df.to_csv('processed_data_seq_val.csv')"
   ]
  },
  {
   "cell_type": "code",
   "execution_count": null,
   "id": "47debf05-92d6-4a02-8ece-7e631622ce47",
   "metadata": {},
   "outputs": [],
   "source": [
    "\n"
   ]
  },
  {
   "cell_type": "code",
   "execution_count": 1,
   "id": "f60ff730-4bde-48d4-998d-e42d14ed7efc",
   "metadata": {},
   "outputs": [],
   "source": [
    "import pandas as pd\n",
    "import glob, os\n",
    "import seaborn as sns\n",
    "import matplotlib.pyplot as plt"
   ]
  },
  {
   "cell_type": "code",
   "execution_count": 36,
   "id": "53968701-3df1-4d52-9590-3c91ede600df",
   "metadata": {},
   "outputs": [],
   "source": [
    "def concat_dataframes_from_paths(file_paths):\n",
    "    \n",
    "    # Read each file into a dataframe and store in a list\n",
    "    df_list = [pd.read_csv(file_path) for file_path in file_paths]\n",
    "\n",
    "    for i in range(len(df_list)):\n",
    "        df_list[i]['split'] = i\n",
    "\n",
    "    # Concatenate the list of dataframes\n",
    "    return pd.concat(df_list, ignore_index=True)\n",
    "\n",
    "def get_results(fl_names, split='reslevel_newcdr3'):\n",
    "\n",
    "    #splits = ['reslevel_newcdr3', 'reslevel_newepi']\n",
    "\n",
    "    out_dict = {'Method':[], 'AUPRC': [], 'AUROC': []}\n",
    "\n",
    "    for fl_name in fl_names:\n",
    "        metric_fls = [os.path.join('results', fl_name, split, f'metrics_{i}.csv') for i in [0,2,4]]\n",
    "        df_full = concat_dataframes_from_paths(metric_fls)\n",
    "        num = len(df_full)\n",
    "        \n",
    "        out_dict['Method'] += [fl_name]*num\n",
    "        out_dict['AUPRC'] += df_full.loc[:, 'auprc'].tolist()\n",
    "        out_dict['AUROC'] += df_full.loc[:, 'auc'].tolist()\n",
    "\n",
    "    df = pd.DataFrame.from_dict(out_dict)\n",
    "    return df\n",
    "\n",
    "def make_plot(df):\n",
    "    df_long = df.melt(var_name=\"Method\", value_name=\"AUPRC\", id_vars='split')\n",
    "\n",
    "    # Create the boxplot\n",
    "    plt.figure(figsize=(10, 6))\n",
    "\n",
    "    sns.stripplot(\n",
    "        data=df_long, x='split', y='AUPRC', hue='Method',\n",
    "        dodge=True, alpha=.2, legend=False,\n",
    "    )\n",
    "    sns.pointplot(\n",
    "        data=df_long, x='split', y='AUPRC', hue='Method',\n",
    "        dodge=.4, errorbar=None, linestyles=\"none\",\n",
    "        markers=\"_\"\n",
    "    )\n",
    "    \n",
    "    plt.xticks(rotation=45)\n",
    "    plt.title(\"Boxplot of AUPRC values by Method\")\n",
    "    plt.show()"
   ]
  },
  {
   "cell_type": "code",
   "execution_count": 37,
   "id": "ac1c2e1a-1290-48da-8b6d-47f36aa01edf",
   "metadata": {},
   "outputs": [],
   "source": [
    "cdr3_df = get_results( ['teim','pretrain'], split='reslevel_newcdr3')\n",
    "epi_df = get_results( ['teim','no_pretrain'], split='reslevel_newepi')"
   ]
  },
  {
   "cell_type": "code",
   "execution_count": 40,
   "id": "6d630b36-83e8-475d-8cc5-cebac93f9540",
   "metadata": {},
   "outputs": [],
   "source": [
    "cdr3_df.to_csv('cdr3_results.csv')\n",
    "epi_df.to_csv('epi_results.csv')"
   ]
  },
  {
   "cell_type": "code",
   "execution_count": 30,
   "id": "9698f055-b9a8-45d8-b1dd-5521abe1fc63",
   "metadata": {},
   "outputs": [
    {
     "data": {
      "text/plain": [
       "teim        0.550676\n",
       "pretrain    0.559745\n",
       "split       0.986301\n",
       "dtype: float64"
      ]
     },
     "execution_count": 30,
     "metadata": {},
     "output_type": "execute_result"
    }
   ],
   "source": [
    "cdr3_df.mean()"
   ]
  },
  {
   "cell_type": "code",
   "execution_count": 31,
   "id": "08d8c161-5904-4aad-a612-442e54ee795f",
   "metadata": {},
   "outputs": [
    {
     "data": {
      "text/plain": [
       "teim           0.602436\n",
       "no_pretrain    0.622063\n",
       "split          0.986301\n",
       "dtype: float64"
      ]
     },
     "execution_count": 31,
     "metadata": {},
     "output_type": "execute_result"
    }
   ],
   "source": [
    "epi_df.mean()"
   ]
  },
  {
   "cell_type": "code",
   "execution_count": 21,
   "id": "cf5e4f38-243b-48e5-97af-11d99e1def26",
   "metadata": {},
   "outputs": [],
   "source": [
    "# make_plot(cdr3_df)"
   ]
  },
  {
   "cell_type": "code",
   "execution_count": 22,
   "id": "0006b613-2f61-4cfb-8c4f-9ef68c9ee55d",
   "metadata": {},
   "outputs": [],
   "source": [
    "# make_plot(epi_df)"
   ]
  },
  {
   "cell_type": "code",
   "execution_count": null,
   "id": "e9c44d49-3428-4e60-8cd1-e9534eaeb509",
   "metadata": {},
   "outputs": [],
   "source": []
  }
 ],
 "metadata": {
  "kernelspec": {
   "display_name": "esmfold",
   "language": "python",
   "name": "esmfold"
  },
  "language_info": {
   "codemirror_mode": {
    "name": "ipython",
    "version": 3
   },
   "file_extension": ".py",
   "mimetype": "text/x-python",
   "name": "python",
   "nbconvert_exporter": "python",
   "pygments_lexer": "ipython3",
   "version": "3.7.12"
  }
 },
 "nbformat": 4,
 "nbformat_minor": 5
}
