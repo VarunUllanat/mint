{
 "cells": [
  {
   "cell_type": "markdown",
   "id": "2e6113ca",
   "metadata": {},
   "source": [
    "### Input data\n",
    "\n",
    "1. Download `Mutation_perturbation_model.csv` (training set) from this [repo](https://github.com/jishnu-lab/SWING/tree/main/Data/MutInt_Model). \n",
    "2. Download all Uniprot sequences and their identifiers from this [link](https://ftp.uniprot.org/pub/databases/uniprot/current_release/knowledgebase/complete/uniprot_sprot.fasta.gz). \n",
    "3. Download the experimentally validated oncoPPI data (`Table S3.xlsx`, validation set) from the Cheng et al. 2021 [repo](https://github.com/ChengF-Lab/oncoPPIs/blob/master/Table%20S3.xlsx). "
   ]
  },
  {
   "cell_type": "code",
   "execution_count": 9,
   "id": "13d494a8-8c60-4ae9-9656-ada902bfed53",
   "metadata": {},
   "outputs": [],
   "source": [
    "import pandas as pd\n",
    "from Bio import SeqIO\n",
    "import re"
   ]
  },
  {
   "cell_type": "code",
   "execution_count": 10,
   "id": "8f37dfdf-84d7-4a74-b856-660571f610ba",
   "metadata": {},
   "outputs": [],
   "source": [
    "record_dict = SeqIO.to_dict(SeqIO.parse(\"../uniprot_sprot.fasta\", \"fasta\"))\n",
    "kv = list(record_dict.items())\n",
    "record_dict.clear()\n",
    "for k, v in kv :\n",
    "    new_k = (k.split('|')[1])\n",
    "    record_dict[new_k] = str(v.seq)"
   ]
  },
  {
   "cell_type": "code",
   "execution_count": 11,
   "id": "f96a2a00-0e1b-4071-88a8-9e626538d1d4",
   "metadata": {},
   "outputs": [],
   "source": [
    "df = pd.read_csv('Mutation_perturbation_model.csv')"
   ]
  },
  {
   "cell_type": "code",
   "execution_count": 12,
   "id": "129b2873-7635-41f4-985d-8962a7fe42f4",
   "metadata": {},
   "outputs": [
    {
     "name": "stdout",
     "output_type": "stream",
     "text": [
      "Failed on index 34\n",
      "Skipping on index 166\n",
      "Skipping on index 391\n",
      "Failed on index 582\n",
      "Failed on index 1100\n",
      "Skipping on index 1293\n",
      "Failed on index 1409\n",
      "Skipping on index 1670\n",
      "Skipping on index 1703\n",
      "Failed on index 1882\n",
      "Skipping on index 1898\n",
      "Skipping on index 2413\n",
      "Skipping on index 2517\n",
      "Skipping on index 2999\n",
      "Skipping on index 3114\n",
      "Skipping on index 3365\n"
     ]
    }
   ],
   "source": [
    "mut_pattern = r'([A-Z])(\\d+)([A-Z])'\n",
    "\n",
    "wt_seq1s = []\n",
    "wt_seq2s = []\n",
    "mut_seq1s = []\n",
    "mut_seq2s = []\n",
    "targets = []\n",
    "\n",
    "for i, row in df.iterrows():\n",
    "\n",
    "    id1 = row['Mutation UPID']\n",
    "    id2 = row['Interactor UPID']\n",
    "    target = row['Y2H_score']\n",
    "\n",
    "    mut = row['Mutation']\n",
    "    \n",
    "    seq1 = record_dict[id1]\n",
    "    seq2 = record_dict[id2]\n",
    "\n",
    "    mut_match = re.match(mut_pattern, mut)\n",
    "    wt_res = mut_match.group(1) \n",
    "    res_num = int(mut_match.group(2))\n",
    "    mut_res = mut_match.group(3)\n",
    "\n",
    "    if wt_res != seq1[res_num-1]:\n",
    "        print(f'Failed on index {i}')\n",
    "        continue\n",
    "    else:\n",
    "        seq1_l = list(seq1)\n",
    "        seq1_l[res_num-1] = mut_res\n",
    "        mut_seq1 = ''.join(seq1_l)\n",
    "\n",
    "    if seq1 == mut_seq1:\n",
    "        print(f'Skipping on index {i}')\n",
    "        continue\n",
    "\n",
    "    wt_seq1s.append(seq1)\n",
    "    wt_seq2s.append(seq2) \n",
    "    mut_seq1s.append(mut_seq1)\n",
    "    mut_seq2s.append(seq2)\n",
    "    targets.append(target)"
   ]
  },
  {
   "cell_type": "code",
   "execution_count": 13,
   "id": "6fd2f071-5aea-487b-b117-1cebe716b22b",
   "metadata": {},
   "outputs": [],
   "source": [
    "mut_df = pd.DataFrame({'seq1': wt_seq1s, \n",
    "                       'seq2': wt_seq2s, \n",
    "                       'seq1_mut': mut_seq1s,\n",
    "                       'seq2_mut': mut_seq2s,\n",
    "                       'target': targets})"
   ]
  },
  {
   "cell_type": "code",
   "execution_count": 14,
   "id": "b501d723-10df-4963-aed1-0ebe8859fe2a",
   "metadata": {},
   "outputs": [],
   "source": [
    "mut_df.to_csv('processed_data_cs.csv')"
   ]
  },
  {
   "cell_type": "code",
   "execution_count": 16,
   "id": "9fbd7790-1b0b-4ab2-87e4-c8eddbc71979",
   "metadata": {},
   "outputs": [],
   "source": [
    "onco_ppi = pd.read_excel('Table S3.xlsx')"
   ]
  },
  {
   "cell_type": "code",
   "execution_count": 18,
   "id": "053d21b9-1fe5-428a-8bd3-534e34c1b9c4",
   "metadata": {},
   "outputs": [],
   "source": [
    "mut_pattern = r'([A-Z])(\\d+)([A-Z])'\n",
    "\n",
    "wt_seq1s = []\n",
    "wt_seq2s = []\n",
    "mut_seq1s = []\n",
    "mut_seq2s = []\n",
    "id1s = []\n",
    "id2s = []\n",
    "targets = []\n",
    "\n",
    "for i, row in onco_ppi.iterrows():\n",
    "    full_id1 = row['UniProt_ID_a']\n",
    "    id2 = row['UniProt_ID_b']\n",
    "    target = row['Growth_score']\n",
    "\n",
    "    full_id1_split = row['UniProt_ID_a'].split('-')\n",
    "    \n",
    "    id1 = full_id1_split[0]\n",
    "    seq1 = record_dict[id1]\n",
    "    seq2 = record_dict[id2]\n",
    "\n",
    "    if len(full_id1_split) > 1:\n",
    "        mut = full_id1_split[1]\n",
    "        mut_match = re.match(mut_pattern, mut)\n",
    "        wt_res = mut_match.group(1) \n",
    "        res_num = int(mut_match.group(2))\n",
    "        mut_res = mut_match.group(3)\n",
    "\n",
    "        if wt_res != seq1[res_num-1]:\n",
    "            print(f'Failed on index {i}')\n",
    "            continue\n",
    "        else:\n",
    "            seq1_l = list(seq1)\n",
    "            seq1_l[res_num-1] = mut_res\n",
    "            mut_seq1 = ''.join(seq1_l)\n",
    "    else:\n",
    "        continue\n",
    "\n",
    "    if seq1 == mut_seq1:\n",
    "        print(f'Skipping on index {i}')\n",
    "        continue\n",
    "\n",
    "    id1s.append(id1)\n",
    "    id2s.append(id2)\n",
    "    wt_seq1s.append(seq1)\n",
    "    wt_seq2s.append(seq2) \n",
    "    mut_seq1s.append(mut_seq1)\n",
    "    mut_seq2s.append(seq2)\n",
    "    targets.append(target)"
   ]
  },
  {
   "cell_type": "code",
   "execution_count": 19,
   "id": "6daac76e-7a1f-4c4d-b4df-c516e3346564",
   "metadata": {},
   "outputs": [],
   "source": [
    "onco_ppi_df = pd.DataFrame({'id1': id1s, 'id2': id2s,\n",
    "                       'seq1': wt_seq1s, \n",
    "                       'seq2': wt_seq2s, \n",
    "                       'seq1_mut': mut_seq1s,\n",
    "                       'seq2_mut': mut_seq2s,\n",
    "                       'target_og': targets})"
   ]
  },
  {
   "cell_type": "code",
   "execution_count": 20,
   "id": "a8e20391-79b9-43df-98d2-f36022a18c87",
   "metadata": {},
   "outputs": [],
   "source": [
    "onco_ppi_df['target'] = onco_ppi_df['target_og'].apply(lambda x: 1 if x>=3 else 0)"
   ]
  },
  {
   "cell_type": "code",
   "execution_count": 21,
   "id": "1a5ae52f-ce52-44df-bca6-0bde0b9d3f66",
   "metadata": {},
   "outputs": [],
   "source": [
    "onco_ppi_df.to_csv('processed_data_val_cs.csv')"
   ]
  },
  {
   "cell_type": "code",
   "execution_count": 22,
   "id": "7105fb5a-600c-4c26-b742-728d754a6adf",
   "metadata": {},
   "outputs": [],
   "source": [
    "onco_ppi_df_un = onco_ppi_df[onco_ppi_df['id1'] != onco_ppi_df['id2']]"
   ]
  },
  {
   "cell_type": "code",
   "execution_count": 23,
   "id": "936beaa5-061b-49fb-b2b4-ac6745af02c9",
   "metadata": {},
   "outputs": [],
   "source": [
    "onco_ppi_df_un.to_csv('processed_data_test_cs.csv')"
   ]
  }
 ],
 "metadata": {
  "kernelspec": {
   "display_name": "Python 3 (ipykernel)",
   "language": "python",
   "name": "python3"
  },
  "language_info": {
   "codemirror_mode": {
    "name": "ipython",
    "version": 3
   },
   "file_extension": ".py",
   "mimetype": "text/x-python",
   "name": "python",
   "nbconvert_exporter": "python",
   "pygments_lexer": "ipython3",
   "version": "3.9.12"
  }
 },
 "nbformat": 4,
 "nbformat_minor": 5
}
