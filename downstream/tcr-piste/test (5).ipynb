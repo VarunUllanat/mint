{
 "cells": [
  {
   "cell_type": "code",
   "execution_count": 1,
   "id": "e4fe285b-79f4-4ffb-8402-0653e1737228",
   "metadata": {},
   "outputs": [],
   "source": [
    "import pandas as pd"
   ]
  },
  {
   "cell_type": "code",
   "execution_count": 2,
   "id": "ec7b999f-cf48-43fa-80d8-ae5d377e3d5b",
   "metadata": {},
   "outputs": [
    {
     "data": {
      "text/plain": [
       "(71036, 6)"
      ]
     },
     "execution_count": 2,
     "metadata": {},
     "output_type": "execute_result"
    }
   ],
   "source": [
    "pd.read_csv('val_data.csv').shape"
   ]
  },
  {
   "cell_type": "code",
   "execution_count": 3,
   "id": "38a86471-f182-4938-bb11-bd61374d44b1",
   "metadata": {},
   "outputs": [
    {
     "data": {
      "text/plain": [
       "(284144, 6)"
      ]
     },
     "execution_count": 3,
     "metadata": {},
     "output_type": "execute_result"
    }
   ],
   "source": [
    "pd.read_csv('train_data.csv').shape"
   ]
  },
  {
   "cell_type": "code",
   "execution_count": 10,
   "id": "4d3a7347-df71-466a-a1ea-12392c07c1c3",
   "metadata": {},
   "outputs": [],
   "source": [
    "x = pd.read_csv('test_data.csv')"
   ]
  },
  {
   "cell_type": "code",
   "execution_count": 11,
   "id": "064eacdb-8c88-4cff-877f-1f5997468a0c",
   "metadata": {},
   "outputs": [
    {
     "data": {
      "text/plain": [
       "0    2605\n",
       "1     223\n",
       "Name: Label, dtype: int64"
      ]
     },
     "execution_count": 11,
     "metadata": {},
     "output_type": "execute_result"
    }
   ],
   "source": [
    "x['Label'].value_counts()"
   ]
  }
 ],
 "metadata": {
  "kernelspec": {
   "display_name": "esmfold",
   "language": "python",
   "name": "esmfold"
  },
  "language_info": {
   "codemirror_mode": {
    "name": "ipython",
    "version": 3
   },
   "file_extension": ".py",
   "mimetype": "text/x-python",
   "name": "python",
   "nbconvert_exporter": "python",
   "pygments_lexer": "ipython3",
   "version": "3.7.12"
  }
 },
 "nbformat": 4,
 "nbformat_minor": 5
}
