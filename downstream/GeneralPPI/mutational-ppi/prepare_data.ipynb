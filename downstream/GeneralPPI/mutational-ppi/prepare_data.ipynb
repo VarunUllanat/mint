{
 "cells": [
  {
   "cell_type": "markdown",
   "id": "6647900e",
   "metadata": {},
   "source": [
    "### Input data\n",
    "\n",
    "1. Download `Mutation_perturbation_model.csv` (training set) from this [repo](https://github.com/jishnu-lab/SWING/tree/main/Data/MutInt_Model). \n",
    "2. Download all Uniprot sequences and their identifiers from this [link](https://ftp.uniprot.org/pub/databases/uniprot/current_release/knowledgebase/complete/uniprot_sprot.fasta.gz). "
   ]
  },
  {
   "cell_type": "code",
   "execution_count": null,
   "id": "1241435b",
   "metadata": {},
   "outputs": [],
   "source": [
    "import pandas as pd\n",
    "from Bio import SeqIO\n",
    "import re"
   ]
  },
  {
   "cell_type": "code",
   "execution_count": null,
   "id": "d949c3b5",
   "metadata": {},
   "outputs": [],
   "source": [
    "record_dict = SeqIO.to_dict(SeqIO.parse(\"../uniprot_sprot.fasta\", \"fasta\"))\n",
    "kv = list(record_dict.items())\n",
    "record_dict.clear()\n",
    "for k, v in kv :\n",
    "    new_k = (k.split('|')[1])\n",
    "    record_dict[new_k] = str(v.seq)"
   ]
  },
  {
   "cell_type": "code",
   "execution_count": null,
   "id": "8c754275",
   "metadata": {},
   "outputs": [],
   "source": [
    "df = pd.read_csv('Mutation_perturbation_model.csv')"
   ]
  },
  {
   "cell_type": "code",
   "execution_count": null,
   "id": "e7bf40d1",
   "metadata": {},
   "outputs": [],
   "source": [
    "mut_pattern = r'([A-Z])(\\d+)([A-Z])'\n",
    "\n",
    "wt_seq1s = []\n",
    "wt_seq2s = []\n",
    "mut_seq1s = []\n",
    "mut_seq2s = []\n",
    "targets = []\n",
    "\n",
    "for i, row in df.iterrows():\n",
    "\n",
    "    id1 = row['Mutation UPID']\n",
    "    id2 = row['Interactor UPID']\n",
    "    target = row['Y2H_score']\n",
    "\n",
    "    mut = row['Mutation']\n",
    "    \n",
    "    seq1 = record_dict[id1]\n",
    "    seq2 = record_dict[id2]\n",
    "\n",
    "    mut_match = re.match(mut_pattern, mut)\n",
    "    wt_res = mut_match.group(1) \n",
    "    res_num = int(mut_match.group(2))\n",
    "    mut_res = mut_match.group(3)\n",
    "\n",
    "    if wt_res != seq1[res_num-1]:\n",
    "        print(f'Failed on index {i}')\n",
    "        continue\n",
    "    else:\n",
    "        seq1_l = list(seq1)\n",
    "        seq1_l[res_num-1] = mut_res\n",
    "        mut_seq1 = ''.join(seq1_l)\n",
    "\n",
    "    if seq1 == mut_seq1:\n",
    "        print(f'Skipping on index {i}')\n",
    "        continue\n",
    "\n",
    "    wt_seq1s.append(seq1)\n",
    "    wt_seq2s.append(seq2) \n",
    "    mut_seq1s.append(mut_seq1)\n",
    "    mut_seq2s.append(seq2)\n",
    "    targets.append(target)"
   ]
  },
  {
   "cell_type": "code",
   "execution_count": null,
   "id": "07e5ac7d",
   "metadata": {},
   "outputs": [],
   "source": [
    "mut_df = pd.DataFrame({'seq1': wt_seq1s, \n",
    "                       'seq2': wt_seq2s, \n",
    "                       'seq1_mut': mut_seq1s,\n",
    "                       'seq2_mut': mut_seq2s,\n",
    "                       'target': targets})"
   ]
  },
  {
   "cell_type": "code",
   "execution_count": null,
   "id": "5c0982be",
   "metadata": {},
   "outputs": [],
   "source": [
    "mut_df.to_csv('processed_data.csv')"
   ]
  }
 ],
 "metadata": {
  "kernelspec": {
   "display_name": "Python 3 (ipykernel)",
   "language": "python",
   "name": "python3"
  },
  "language_info": {
   "codemirror_mode": {
    "name": "ipython",
    "version": 3
   },
   "file_extension": ".py",
   "mimetype": "text/x-python",
   "name": "python",
   "nbconvert_exporter": "python",
   "pygments_lexer": "ipython3",
   "version": "3.12.2"
  }
 },
 "nbformat": 4,
 "nbformat_minor": 5
}
